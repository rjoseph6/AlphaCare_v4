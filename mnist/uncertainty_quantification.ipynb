{
 "cells": [
  {
   "cell_type": "code",
   "execution_count": 18,
   "metadata": {},
   "outputs": [],
   "source": [
    "import numpy as np\n",
    "import tensorflow as tf\n",
    "from tensorflow.keras import layers, models\n",
    "from tensorflow.keras.datasets import mnist\n",
    "from tensorflow.keras.utils import to_categorical"
   ]
  },
  {
   "cell_type": "code",
   "execution_count": null,
   "metadata": {},
   "outputs": [],
   "source": []
  },
  {
   "attachments": {},
   "cell_type": "markdown",
   "metadata": {},
   "source": [
    "# Epistemic Uncertainty\n",
    "- uncertainty in the model due to lack of knowledge or data\n",
    "- captured by Monte Carlo Dropout"
   ]
  },
  {
   "cell_type": "code",
   "execution_count": 19,
   "metadata": {},
   "outputs": [],
   "source": [
    "# LEARN WHATS DROPOUT DOING\n",
    "# whats monte carlo dropout"
   ]
  },
  {
   "cell_type": "code",
   "execution_count": null,
   "metadata": {},
   "outputs": [],
   "source": []
  },
  {
   "cell_type": "code",
   "execution_count": 20,
   "metadata": {},
   "outputs": [],
   "source": [
    "# Load the MNIST dataset\n",
    "(x_train, y_train), (x_test, y_test) = mnist.load_data()\n",
    "\n",
    "# Preprocess the data (reshape and normalize)\n",
    "x_train = x_train.reshape(-1, 28, 28, 1).astype('float32') / 255.0\n",
    "x_test = x_test.reshape(-1, 28, 28, 1).astype('float32') / 255.0\n",
    "\n",
    "# One-hot encode the labels\n",
    "y_train = to_categorical(y_train)\n",
    "y_test = to_categorical(y_test)"
   ]
  },
  {
   "cell_type": "code",
   "execution_count": 21,
   "metadata": {},
   "outputs": [],
   "source": [
    "def create_model(dropout_rate=0.5):\n",
    "    model = models.Sequential([\n",
    "        layers.Conv2D(32, kernel_size=(3, 3), activation='relu', input_shape=(28, 28, 1)),\n",
    "        layers.MaxPooling2D(pool_size=(2, 2)),\n",
    "        layers.Conv2D(64, kernel_size=(3, 3), activation='relu'),\n",
    "        layers.MaxPooling2D(pool_size=(2, 2)),\n",
    "        layers.Flatten(),\n",
    "        layers.Dense(128, activation='relu'),\n",
    "        layers.Dropout(dropout_rate),  # Dropout layer for uncertainty\n",
    "        layers.Dense(10, activation='softmax')  # Output layer (10 classes for MNIST)\n",
    "    ])\n",
    "    \n",
    "    model.compile(optimizer='adam', loss='categorical_crossentropy', metrics=['accuracy'])\n",
    "    return model\n",
    "\n",
    "# Create the model\n",
    "model = create_model()"
   ]
  },
  {
   "cell_type": "code",
   "execution_count": 22,
   "metadata": {},
   "outputs": [
    {
     "name": "stdout",
     "output_type": "stream",
     "text": [
      "750/750 [==============================] - 10s 13ms/step - loss: 0.5831 - accuracy: 0.8136 - val_loss: 0.1569 - val_accuracy: 0.9518\n"
     ]
    },
    {
     "data": {
      "text/plain": [
       "<keras.src.callbacks.History at 0x31d35c580>"
      ]
     },
     "execution_count": 22,
     "metadata": {},
     "output_type": "execute_result"
    }
   ],
   "source": [
    "# Train the model on the MNIST dataset\n",
    "model.fit(x_train, y_train, epochs=1, batch_size=8, validation_split=0.9)"
   ]
  },
  {
   "cell_type": "code",
   "execution_count": 23,
   "metadata": {},
   "outputs": [],
   "source": [
    "# multiple forward passes\n",
    "# calculate the variance between all the outputs\n",
    "\n",
    "def monte_carlo_dropout(model, x_input, n_iter=100):\n",
    "    # store predictions from multiple forward passes\n",
    "    predictions = np.array([model(x_input, training=True) for _ in range(n_iter)])\n",
    "\n",
    "    # mean of predictions\n",
    "    mean_prediction = np.mean(predictions, axis=0)\n",
    "\n",
    "    # variance of the predictions (uncertainty)\n",
    "    variance_prediction = np.var(predictions, axis=0)\n",
    "\n",
    "    return mean_prediction, variance_prediction"
   ]
  },
  {
   "cell_type": "code",
   "execution_count": 24,
   "metadata": {},
   "outputs": [
    {
     "data": {
      "image/png": "[encoded data removed]",
      "text/plain": [
       "<Figure size 640x480 with 1 Axes>"
      ]
     },
     "metadata": {},
     "output_type": "display_data"
    }
   ],
   "source": [
    "# sample\n",
    "sample_index = slice(22,23)\n",
    "x_sample = x_test[sample_index]\n",
    "\n",
    "import matplotlib.pyplot as plt\n",
    "\n",
    "# Select a sample image and its true label from the test set\n",
    "#sample_index = 1  # You can change this to view different images\n",
    "#x_sample = x_test[sample_index]\n",
    "y_sample_true = np.argmax(y_test[sample_index])  # True label (in numeric form)\n",
    "\n",
    "# Visualize the image\n",
    "plt.imshow(x_sample.reshape(28, 28), cmap='gray')  # Reshape the image and display it\n",
    "plt.title(f\"True Label: {y_sample_true}\")  # Add the true label as the title\n",
    "plt.axis('off')  # Turn off axis for clarity\n",
    "plt.show()"
   ]
  },
  {
   "cell_type": "code",
   "execution_count": 25,
   "metadata": {},
   "outputs": [
    {
     "name": "stdout",
     "output_type": "stream",
     "text": [
      "Mean Prediction: [[1.6693130e-02 2.1799579e-02 3.7643232e-04 1.2598954e-04 1.5783396e-01\n",
      "  7.1815867e-03 7.7382272e-01 1.0399577e-03 4.1378327e-03 1.6988808e-02]]\n",
      "\n",
      "Uncertainty (Variance): [[7.4093346e-03 4.1299947e-03 2.6423677e-06 4.2603807e-07 5.5030726e-02\n",
      "  2.8310486e-03 8.0457136e-02 1.8864986e-05 1.1692677e-03 5.6529115e-03]]\n"
     ]
    }
   ],
   "source": [
    "# get mean and uncertainty (variance) using Monte Carlo Dropout\n",
    "mean_prediction, uncertainty = monte_carlo_dropout(model, x_sample, n_iter=100)\n",
    "\n",
    "# results\n",
    "print(f\"Mean Prediction: {mean_prediction}\\n\")\n",
    "print(f\"Uncertainty (Variance): {uncertainty}\")"
   ]
  },
  {
   "attachments": {},
   "cell_type": "markdown",
   "metadata": {},
   "source": [
    "The reason we get multiple uncertainty values is because its the uncertainty values across all 7 classes"
   ]
  },
  {
   "cell_type": "code",
   "execution_count": 26,
   "metadata": {},
   "outputs": [
    {
     "name": "stdout",
     "output_type": "stream",
     "text": [
      "Model Predictions (mean prediction): [[1.6693130e-02 2.1799579e-02 3.7643232e-04 1.2598954e-04 1.5783396e-01\n",
      "  7.1815867e-03 7.7382272e-01 1.0399577e-03 4.1378327e-03 1.6988808e-02]]\n",
      "Model Uncertainty (variance): [[7.4093346e-03 4.1299947e-03 2.6423677e-06 4.2603807e-07 5.5030726e-02\n",
      "  2.8310486e-03 8.0457136e-02 1.8864986e-05 1.1692677e-03 5.6529115e-03]]\n",
      "Predicted Class: 6\n",
      "Uncertainty for predicted class 6: 0.08045713603496552\n"
     ]
    }
   ],
   "source": [
    "# GETTING SINGULAR UNCERTAINTY VALUE\n",
    "\n",
    "# MEAN UNCERTAINTY (VARIANCE)\n",
    "# overall average uncertainty across ALL classes\n",
    "# stupid\n",
    "# mean_uncertainty = np.mean(uncertainty)\n",
    "# print(f\"Mean Uncertainty: {mean_uncertainty}\")\n",
    "\n",
    "# VARIANCE OF PREDICTED CLASS\n",
    "# we only care about uncertainty related to predicted class (class with highest mean probability)\n",
    "print(f\"Model Predictions (mean prediction): {mean_prediction}\")\n",
    "print(f\"Model Uncertainty (variance): {uncertainty}\")\n",
    "predicted_class = np.argmax(mean_prediction)\n",
    "print(f\"Predicted Class: {predicted_class}\")\n",
    "class_uncertainty = uncertainty[0, predicted_class]\n",
    "print(f\"Uncertainty for predicted class {predicted_class}: {class_uncertainty}\")"
   ]
  },
  {
   "cell_type": "code",
   "execution_count": 27,
   "metadata": {},
   "outputs": [
    {
     "name": "stdout",
     "output_type": "stream",
     "text": [
      "(1, 10)\n"
     ]
    }
   ],
   "source": [
    "print(uncertainty.shape)"
   ]
  },
  {
   "cell_type": "code",
   "execution_count": 28,
   "metadata": {},
   "outputs": [
    {
     "data": {
      "image/png": "[encoded data removed]",
      "text/plain": [
       "<Figure size 800x600 with 1 Axes>"
      ]
     },
     "metadata": {},
     "output_type": "display_data"
    }
   ],
   "source": [
    "import matplotlib.pyplot as plt\n",
    "\n",
    "def plot_uncertainty(uncertainty, mean_prediction):\n",
    "    plt.figure(figsize=(8, 6))\n",
    "    plt.bar(range(10), uncertainty[0], color='gray')\n",
    "    plt.xticks(range(10), range(10))\n",
    "    plt.title(f\"Uncertainty for each class\")\n",
    "    plt.xlabel(\"Class\")\n",
    "    plt.ylabel(\"Uncertainty (Variance)\")\n",
    "    plt.show()\n",
    "\n",
    "plot_uncertainty(uncertainty, mean_prediction)"
   ]
  },
  {
   "cell_type": "code",
   "execution_count": null,
   "metadata": {},
   "outputs": [],
   "source": []
  }
 ],
 "metadata": {
  "kernelspec": {
   "display_name": "Python 3",
   "language": "python",
   "name": "python3"
  },
  "language_info": {
   "codemirror_mode": {
    "name": "ipython",
    "version": 3
   },
   "file_extension": ".py",
   "mimetype": "text/x-python",
   "name": "python",
   "nbconvert_exporter": "python",
   "pygments_lexer": "ipython3",
   "version": "3.9.6"
  },
  "orig_nbformat": 4,
  "vscode": {
   "interpreter": {
    "hash": "31f2aee4e71d21fbe5cf8b01ff0e069b9275f58929596ceb00d14d90e3e16cd6"
   }
  }
 },
 "nbformat": 4,
 "nbformat_minor": 2
}
