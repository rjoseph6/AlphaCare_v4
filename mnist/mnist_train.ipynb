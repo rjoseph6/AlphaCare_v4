{
 "cells": [
  {
   "cell_type": "code",
   "execution_count": 319,
   "metadata": {},
   "outputs": [],
   "source": [
    "# !pip3 install scikit-learn"
   ]
  },
  {
   "cell_type": "code",
   "execution_count": 320,
   "metadata": {},
   "outputs": [],
   "source": [
    "%matplotlib inline\n",
    "import matplotlib.pyplot as plt\n",
    "import numpy as np\n",
    "import pandas as pd\n",
    "import os\n",
    "from glob import glob\n",
    "#import seaborn as sns\n",
    "from PIL import Image\n",
    "np.random.seed(123)\n",
    "from sklearn.preprocessing import label_binarize\n",
    "from sklearn.metrics import confusion_matrix\n",
    "import itertools\n",
    "\n",
    "import tensorflow\n",
    "import tensorflow as tf\n",
    "from tensorflow.keras.models import Sequential\n",
    "from tensorflow.keras.layers import Conv2D, MaxPooling2D, Dropout, Flatten, Dense\n",
    "\n",
    "#import keras\n",
    "#from keras.utils.np_utils import to_categorical # used for converting labels to one-hot-encoding\n",
    "from keras.models import Sequential\n",
    "from keras.layers import Dense, Dropout, Flatten, Conv2D, MaxPool2D\n",
    "from keras import backend as K\n",
    "import itertools\n",
    "from keras.layers import BatchNormalization\n",
    "from tensorflow.keras.utils import to_categorical # convert to one-hot-encoding\n",
    "#from tensorflow.keras import layers, models\n",
    "#import tensorflow as tf\n",
    "\n",
    "#from keras.optimizers import Adam\n",
    "from tensorflow.keras.preprocessing.image import ImageDataGenerator\n",
    "from keras.callbacks import ReduceLROnPlateau\n",
    "from sklearn.model_selection import train_test_split"
   ]
  },
  {
   "cell_type": "code",
   "execution_count": 321,
   "metadata": {},
   "outputs": [],
   "source": [
    "base_skin_dir = 'archive/'\n",
    "\n",
    "# Merging images from both folders HAM10000_images_part1.zip and HAM10000_images_part2.zip into one dictionary\n",
    "\n",
    "imageid_path_dict = {os.path.splitext(os.path.basename(x))[0]: x\n",
    "                     for x in glob(os.path.join(base_skin_dir, '*', '*.jpg'))}\n",
    "\n",
    "# This dictionary is useful for displaying more human-friendly labels later on\n",
    "\n",
    "lesion_type_dict = {\n",
    "    'nv': 'Melanocytic nevi',\n",
    "    'mel': 'Melanoma',\n",
    "    'bkl': 'Benign keratosis-like lesions ',\n",
    "    'bcc': 'Basal cell carcinoma',\n",
    "    'akiec': 'Actinic keratoses',\n",
    "    'vasc': 'Vascular lesions',\n",
    "    'df': 'Dermatofibroma'\n",
    "}"
   ]
  },
  {
   "cell_type": "code",
   "execution_count": 322,
   "metadata": {},
   "outputs": [],
   "source": [
    "skin_df = pd.read_csv(os.path.join(base_skin_dir, 'HAM10000_metadata.csv'))\n",
    "\n",
    "# Creating New Columns for better readability\n",
    "\n",
    "skin_df['path'] = skin_df['image_id'].map(imageid_path_dict.get)\n",
    "skin_df['cell_type'] = skin_df['dx'].map(lesion_type_dict.get) \n",
    "skin_df['cell_type_idx'] = pd.Categorical(skin_df['cell_type']).codes"
   ]
  },
  {
   "cell_type": "code",
   "execution_count": 323,
   "metadata": {},
   "outputs": [
    {
     "name": "stdout",
     "output_type": "stream",
     "text": [
      "Original Size: (10015, 10)\n",
      "Shrunk Size: (1002, 10)\n"
     ]
    }
   ],
   "source": [
    "# skrink dataset\n",
    "print(f\"Original Size: {skin_df.shape}\")\n",
    "skin_df = skin_df.sample(frac=0.1) # shuffle the dataset\n",
    "print(f\"Shrunk Size: {skin_df.shape}\")"
   ]
  },
  {
   "cell_type": "code",
   "execution_count": 324,
   "metadata": {},
   "outputs": [],
   "source": [
    "#skin_df.isnull().sum()"
   ]
  },
  {
   "cell_type": "code",
   "execution_count": 325,
   "metadata": {},
   "outputs": [],
   "source": [
    "skin_df['age'].fillna((skin_df['age'].mean()), inplace=True)"
   ]
  },
  {
   "cell_type": "code",
   "execution_count": 326,
   "metadata": {},
   "outputs": [],
   "source": [
    "#skin_df.isnull().sum()"
   ]
  },
  {
   "cell_type": "code",
   "execution_count": 327,
   "metadata": {},
   "outputs": [
    {
     "name": "stdout",
     "output_type": "stream",
     "text": [
      "lesion_id         object\n",
      "image_id          object\n",
      "dx                object\n",
      "dx_type           object\n",
      "age              float64\n",
      "sex               object\n",
      "localization      object\n",
      "path              object\n",
      "cell_type         object\n",
      "cell_type_idx       int8\n",
      "dtype: object\n"
     ]
    }
   ],
   "source": [
    "print(skin_df.dtypes)"
   ]
  },
  {
   "cell_type": "code",
   "execution_count": 328,
   "metadata": {},
   "outputs": [],
   "source": [
    "#fig, ax1 = plt.subplots(1, 1, figsize= (10, 5))\n",
    "#skin_df['cell_type'].value_counts().plot(kind='bar', ax=ax1)"
   ]
  },
  {
   "cell_type": "code",
   "execution_count": 329,
   "metadata": {},
   "outputs": [],
   "source": [
    "#skin_df['dx_type'].value_counts().plot(kind='bar')"
   ]
  },
  {
   "cell_type": "code",
   "execution_count": 330,
   "metadata": {},
   "outputs": [],
   "source": [
    "#skin_df['localization'].value_counts().plot(kind='bar')"
   ]
  },
  {
   "cell_type": "code",
   "execution_count": 331,
   "metadata": {},
   "outputs": [],
   "source": [
    "#skin_df['age'].hist(bins=40)"
   ]
  },
  {
   "cell_type": "code",
   "execution_count": 332,
   "metadata": {},
   "outputs": [],
   "source": [
    "#skin_df['sex'].value_counts().plot(kind='bar')"
   ]
  },
  {
   "cell_type": "code",
   "execution_count": 333,
   "metadata": {},
   "outputs": [],
   "source": [
    "#print(skin_df.head)"
   ]
  },
  {
   "cell_type": "code",
   "execution_count": 334,
   "metadata": {},
   "outputs": [],
   "source": [
    "skin_df['image'] = skin_df['path'].map(lambda x: np.asarray(Image.open(x).resize((100,75))))"
   ]
  },
  {
   "cell_type": "code",
   "execution_count": 335,
   "metadata": {},
   "outputs": [
    {
     "data": {
      "text/plain": [
       "\"n_samples = 5\\nfig, m_axs = plt.subplots(7, n_samples, figsize = (4*n_samples, 3*7))\\nfor n_axs, (type_name, type_rows) in zip(m_axs, \\n                                         skin_df.sort_values(['cell_type']).groupby('cell_type')):\\n    n_axs[0].set_title(type_name)\\n    for c_ax, (_, c_row) in zip(n_axs, type_rows.sample(n_samples, random_state=1234).iterrows()):\\n        c_ax.imshow(c_row['image'])\\n        c_ax.axis('off')\""
      ]
     },
     "execution_count": 335,
     "metadata": {},
     "output_type": "execute_result"
    }
   ],
   "source": [
    "'''n_samples = 5\n",
    "fig, m_axs = plt.subplots(7, n_samples, figsize = (4*n_samples, 3*7))\n",
    "for n_axs, (type_name, type_rows) in zip(m_axs, \n",
    "                                         skin_df.sort_values(['cell_type']).groupby('cell_type')):\n",
    "    n_axs[0].set_title(type_name)\n",
    "    for c_ax, (_, c_row) in zip(n_axs, type_rows.sample(n_samples, random_state=1234).iterrows()):\n",
    "        c_ax.imshow(c_row['image'])\n",
    "        c_ax.axis('off')'''\n",
    "        \n",
    "#fig.savefig('category_samples.png', dpi=300)"
   ]
  },
  {
   "cell_type": "code",
   "execution_count": 336,
   "metadata": {},
   "outputs": [
    {
     "data": {
      "text/plain": [
       "(75, 100, 3)    1002\n",
       "Name: image, dtype: int64"
      ]
     },
     "execution_count": 336,
     "metadata": {},
     "output_type": "execute_result"
    }
   ],
   "source": [
    "# Checking the image size distribution\n",
    "skin_df['image'].map(lambda x: x.shape).value_counts()"
   ]
  },
  {
   "cell_type": "code",
   "execution_count": 337,
   "metadata": {},
   "outputs": [],
   "source": [
    "#print(skin_df.head)"
   ]
  },
  {
   "cell_type": "code",
   "execution_count": 338,
   "metadata": {},
   "outputs": [],
   "source": [
    "features=skin_df.drop(columns=['cell_type_idx'],axis=1)\n",
    "target=skin_df['cell_type_idx']"
   ]
  },
  {
   "cell_type": "code",
   "execution_count": 339,
   "metadata": {},
   "outputs": [],
   "source": [
    "x_train_o, x_test_o, y_train_o, y_test_o = train_test_split(features, target, test_size=0.20,random_state=1234)"
   ]
  },
  {
   "cell_type": "code",
   "execution_count": 340,
   "metadata": {},
   "outputs": [],
   "source": [
    "x_train = np.asarray(x_train_o['image'].tolist())\n",
    "x_test = np.asarray(x_test_o['image'].tolist())\n",
    "\n",
    "x_train_mean = np.mean(x_train)\n",
    "x_train_std = np.std(x_train)\n",
    "\n",
    "x_test_mean = np.mean(x_test)\n",
    "x_test_std = np.std(x_test)\n",
    "\n",
    "x_train = (x_train - x_train_mean)/x_train_std\n",
    "x_test = (x_test - x_test_mean)/x_test_std"
   ]
  },
  {
   "cell_type": "code",
   "execution_count": 341,
   "metadata": {},
   "outputs": [],
   "source": [
    "#print(y_test_o)"
   ]
  },
  {
   "cell_type": "code",
   "execution_count": 342,
   "metadata": {},
   "outputs": [],
   "source": [
    "# Perform one-hot encoding on the labels\n",
    "y_train = to_categorical(y_train_o, num_classes = 7)\n",
    "y_test = to_categorical(y_test_o, num_classes = 7)"
   ]
  },
  {
   "cell_type": "code",
   "execution_count": 343,
   "metadata": {},
   "outputs": [],
   "source": [
    "#print(y_test)"
   ]
  },
  {
   "cell_type": "code",
   "execution_count": 344,
   "metadata": {},
   "outputs": [],
   "source": [
    "x_train, x_validate, y_train, y_validate = train_test_split(x_train, y_train, test_size = 0.1, random_state = 2)"
   ]
  },
  {
   "cell_type": "code",
   "execution_count": 345,
   "metadata": {},
   "outputs": [],
   "source": [
    "# Reshape image in 3 dimensions (height = 75px, width = 100px , canal = 3)\n",
    "x_train = x_train.reshape(x_train.shape[0], *(75, 100, 3))\n",
    "x_test = x_test.reshape(x_test.shape[0], *(75, 100, 3))\n",
    "x_validate = x_validate.reshape(x_validate.shape[0], *(75, 100, 3))"
   ]
  },
  {
   "cell_type": "code",
   "execution_count": 346,
   "metadata": {},
   "outputs": [],
   "source": [
    "input_shape = (75, 100, 3)\n",
    "num_classes = 7"
   ]
  },
  {
   "attachments": {},
   "cell_type": "markdown",
   "metadata": {},
   "source": [
    "# Dropout\n",
    "\n",
    "The larger the dropout the greater the uncertainty will be. This is because the model is less confident in the predictions it makes."
   ]
  },
  {
   "cell_type": "code",
   "execution_count": 347,
   "metadata": {},
   "outputs": [],
   "source": [
    "model = Sequential([\n",
    "    layers.Conv2D(32, kernel_size=(3, 3), activation='relu', input_shape=(75, 100, 3)),\n",
    "    layers.MaxPooling2D(pool_size=(2, 2)),\n",
    "    layers.Dropout(0.5), \n",
    "\n",
    "    layers.Conv2D(64, kernel_size=(3, 3), activation='relu'),\n",
    "    layers.MaxPooling2D(pool_size=(2, 2)),\n",
    "    layers.Dropout(0.5),\n",
    "\n",
    "    layers.Conv2D(64, kernel_size=(3, 3), activation='relu'),\n",
    "    layers.MaxPooling2D(pool_size=(2, 2)),\n",
    "    layers.Dropout(0.5),\n",
    "\n",
    "    layers.Conv2D(64, kernel_size=(3, 3), activation='relu'),\n",
    "    layers.MaxPooling2D(pool_size=(2, 2)),\n",
    "    layers.Dropout(0.5),\n",
    "\n",
    "    layers.Flatten(),\n",
    "\n",
    "    layers.Dense(128, activation='relu'),\n",
    "    layers.Dropout(0.5),  # Dropout layer for uncertainty\n",
    "    layers.Dense(7, activation='softmax')  # Output layer (e.g., 10 classes for MNIST)\n",
    "])\n",
    "\n",
    "model.compile(optimizer='adam', loss='categorical_crossentropy', metrics=['accuracy'])"
   ]
  },
  {
   "cell_type": "code",
   "execution_count": 348,
   "metadata": {},
   "outputs": [
    {
     "data": {
      "text/plain": [
       "\"from tensorflow.keras import models, layers\\n# Define the optimizer\\nOPTIMIZER = tf.keras.optimizers.legacy.SGD(lr=0.01, momentum=0.9, nesterov=True)\\n\\ndef create_model(input_shape, num_classes, dropout_rate=0.1):\\n    model = models.Sequential([\\n        layers.Conv2D(32, kernel_size=(3, 3), activation='relu', input_shape=input_shape),\\n        layers.MaxPooling2D(pool_size=(2, 2)),\\n        layers.Dropout(dropout_rate), \\n\\n        layers.Conv2D(64, kernel_size=(3, 3), activation='relu'),\\n        layers.MaxPooling2D(pool_size=(2, 2)),\\n        layers.Dropout(dropout_rate),\\n        \\n        layers.Conv2D(64, kernel_size=(3, 3), activation='relu'),\\n        layers.MaxPooling2D(pool_size=(2, 2)),\\n        layers.Dropout(dropout_rate),\\n\\n        layers.Conv2D(64, kernel_size=(3, 3), activation='relu'),\\n        layers.MaxPooling2D(pool_size=(2, 2)),\\n        layers.Dropout(dropout_rate),\\n\\n        layers.Flatten(),\\n        \\n        layers.Dense(128, activation='relu'),\\n        layers.Dropout(dropout_rate),  # Dropout layer for uncertainty\\n        layers.Dense(num_classes, activation='softmax')  # Output layer (e.g., 10 classes for MNIST)\\n    ])\\n    \\n    model.compile(optimizer=OPTIMIZER, loss='categorical_crossentropy', metrics=['accuracy'])\\n    return model\\n\\n# Example usage:\\ninput_shape = (75, 100, 3)  # Replace with your actual input shape\\nnum_classes = 7  # Replace with the number of classes for your dataset\\n\\n# Create the model\\nmodel = create_model(input_shape=input_shape, num_classes=num_classes)\""
      ]
     },
     "execution_count": 348,
     "metadata": {},
     "output_type": "execute_result"
    }
   ],
   "source": [
    "'''from tensorflow.keras import models, layers\n",
    "# Define the optimizer\n",
    "OPTIMIZER = tf.keras.optimizers.legacy.SGD(lr=0.01, momentum=0.9, nesterov=True)\n",
    "\n",
    "def create_model(input_shape, num_classes, dropout_rate=0.1):\n",
    "    model = models.Sequential([\n",
    "        layers.Conv2D(32, kernel_size=(3, 3), activation='relu', input_shape=input_shape),\n",
    "        layers.MaxPooling2D(pool_size=(2, 2)),\n",
    "        layers.Dropout(dropout_rate), \n",
    "\n",
    "        layers.Conv2D(64, kernel_size=(3, 3), activation='relu'),\n",
    "        layers.MaxPooling2D(pool_size=(2, 2)),\n",
    "        layers.Dropout(dropout_rate),\n",
    "        \n",
    "        layers.Conv2D(64, kernel_size=(3, 3), activation='relu'),\n",
    "        layers.MaxPooling2D(pool_size=(2, 2)),\n",
    "        layers.Dropout(dropout_rate),\n",
    "\n",
    "        layers.Conv2D(64, kernel_size=(3, 3), activation='relu'),\n",
    "        layers.MaxPooling2D(pool_size=(2, 2)),\n",
    "        layers.Dropout(dropout_rate),\n",
    "\n",
    "        layers.Flatten(),\n",
    "        \n",
    "        layers.Dense(128, activation='relu'),\n",
    "        layers.Dropout(dropout_rate),  # Dropout layer for uncertainty\n",
    "        layers.Dense(num_classes, activation='softmax')  # Output layer (e.g., 10 classes for MNIST)\n",
    "    ])\n",
    "    \n",
    "    model.compile(optimizer=OPTIMIZER, loss='categorical_crossentropy', metrics=['accuracy'])\n",
    "    return model\n",
    "\n",
    "# Example usage:\n",
    "input_shape = (75, 100, 3)  # Replace with your actual input shape\n",
    "num_classes = 7  # Replace with the number of classes for your dataset\n",
    "\n",
    "# Create the model\n",
    "model = create_model(input_shape=input_shape, num_classes=num_classes)'''"
   ]
  },
  {
   "cell_type": "markdown",
   "metadata": {},
   "source": [
    "# Set the CNN model \n",
    "# my CNN architechture is In -> [[Conv2D->relu]*2 -> MaxPool2D -> Dropout]*2 -> Flatten -> Dense -> Dropout -> Out\n",
    "input_shape = (75, 100, 3)\n",
    "num_classes = 7\n",
    "\n",
    "model = Sequential()\n",
    "model.add(Conv2D(32, kernel_size=(3, 3),activation='relu',padding = 'Same',input_shape=input_shape))\n",
    "model.add(Conv2D(32,kernel_size=(3, 3), activation='relu',padding = 'Same',))\n",
    "model.add(MaxPool2D(pool_size = (2, 2)))\n",
    "model.add(Dropout(0.25))\n",
    "\n",
    "\n",
    "model.add(Conv2D(64, (3, 3), activation='relu',padding = 'Same'))\n",
    "model.add(Conv2D(64, (3, 3), activation='relu',padding = 'Same'))\n",
    "model.add(MaxPool2D(pool_size=(2, 2)))\n",
    "model.add(Dropout(0.40))\n",
    "\n",
    "model.add(Flatten())\n",
    "model.add(Dense(128, activation='relu'))\n",
    "model.add(Dropout(0.5))\n",
    "model.add(Dense(num_classes, activation='softmax'))\n",
    "model.summary()"
   ]
  },
  {
   "cell_type": "code",
   "execution_count": 349,
   "metadata": {},
   "outputs": [],
   "source": [
    "# Define the optimizer\n",
    "#optimizer = tf.keras.optimizers.legacy.Adam(learning_rate=0.001, beta_1=0.9, beta_2=0.999, amsgrad=False)"
   ]
  },
  {
   "cell_type": "code",
   "execution_count": 350,
   "metadata": {},
   "outputs": [],
   "source": [
    "# Compile the model\n",
    "model.compile(optimizer = OPTIMIZER , loss = \"categorical_crossentropy\", metrics=[\"accuracy\"])"
   ]
  },
  {
   "cell_type": "code",
   "execution_count": 351,
   "metadata": {},
   "outputs": [],
   "source": [
    "# Set a learning rate annealer\n",
    "learning_rate_reduction = ReduceLROnPlateau(monitor='val_accuracy', \n",
    "                                            patience=3, \n",
    "                                            verbose=1, \n",
    "                                            factor=0.5, \n",
    "                                            min_lr=0.00001)"
   ]
  },
  {
   "cell_type": "code",
   "execution_count": 352,
   "metadata": {},
   "outputs": [],
   "source": [
    "# With data augmentation to prevent overfitting \n",
    "\n",
    "datagen = ImageDataGenerator(\n",
    "        featurewise_center=False,  # set input mean to 0 over the dataset\n",
    "        samplewise_center=False,  # set each sample mean to 0\n",
    "        featurewise_std_normalization=False,  # divide inputs by std of the dataset\n",
    "        samplewise_std_normalization=False,  # divide each input by its std\n",
    "        zca_whitening=False,  # apply ZCA whitening\n",
    "        rotation_range=10,  # randomly rotate images in the range (degrees, 0 to 180)\n",
    "        zoom_range = 0.1, # Randomly zoom image \n",
    "        width_shift_range=0.1,  # randomly shift images horizontally (fraction of total width)\n",
    "        height_shift_range=0.1,  # randomly shift images vertically (fraction of total height)\n",
    "        horizontal_flip=False,  # randomly flip images\n",
    "        vertical_flip=False)  # randomly flip images\n",
    "\n",
    "datagen.fit(x_train)"
   ]
  },
  {
   "cell_type": "markdown",
   "metadata": {},
   "source": [
    "import matplotlib.pyplot as plt\n",
    "\n",
    "# Select an image from the test set\n",
    "img = x_train[0]  # Select the first image in the test set (without the extra dimension)\n",
    "print(img.shape)\n",
    "\n",
    "# Plot the image using matplotlib\n",
    "plt.imshow(img.astype('uint8'))\n",
    "plt.title('Test Image')\n",
    "plt.axis('off')  # Turn off the axis for a cleaner image display\n",
    "plt.show()"
   ]
  },
  {
   "cell_type": "markdown",
   "metadata": {},
   "source": [
    "import matplotlib.pyplot as plt\n",
    "\n",
    "# Assuming you normalized the images earlier (x_test - mean) / std\n",
    "# You need to reverse this by multiplying by the standard deviation and adding the mean back\n",
    "\n",
    "# Rescale the image\n",
    "img_rescaled = (x_test[0] * x_test_std) + x_test_mean  # Undo normalization\n",
    "\n",
    "# Ensure the pixel values are in the range [0, 255] for proper visualization\n",
    "img_rescaled = np.clip(img_rescaled, 0, 255).astype('uint8')\n",
    "\n",
    "# Plot the image using matplotlib\n",
    "plt.imshow(img_rescaled)\n",
    "plt.title('Rescaled Test Image')\n",
    "plt.axis('off')  # Turn off the axis for a cleaner image display\n",
    "plt.show()"
   ]
  },
  {
   "cell_type": "code",
   "execution_count": 353,
   "metadata": {},
   "outputs": [
    {
     "name": "stdout",
     "output_type": "stream",
     "text": [
      "5/5 [==============================] - 1s 202ms/step - loss: 1.5736 - accuracy: 0.5688 - val_loss: 1.7600 - val_accuracy: 0.7160 - lr: 0.0100\n"
     ]
    }
   ],
   "source": [
    "# Fit the model\n",
    "EPOCHS = 1\n",
    "batch_size = 128\n",
    "\n",
    "history = model.fit(datagen.flow(x_train,y_train, batch_size=batch_size),\n",
    "                              epochs = EPOCHS, validation_data = (x_validate,y_validate),\n",
    "                              verbose = 1, steps_per_epoch=x_train.shape[0] // batch_size\n",
    "                              , callbacks=[learning_rate_reduction])"
   ]
  },
  {
   "cell_type": "code",
   "execution_count": 354,
   "metadata": {},
   "outputs": [
    {
     "name": "stdout",
     "output_type": "stream",
     "text": [
      "7/7 [==============================] - 0s 13ms/step - loss: 1.7783 - accuracy: 0.6368\n",
      "3/3 [==============================] - 0s 12ms/step - loss: 1.7600 - accuracy: 0.7160\n",
      "Validation: accuracy = 0.716049  ;  loss_v = 1.760003\n",
      "Test: accuracy = 0.636816  ;  loss = 1.778264\n"
     ]
    }
   ],
   "source": [
    "loss, accuracy = model.evaluate(x_test, y_test, verbose=1)\n",
    "loss_v, accuracy_v = model.evaluate(x_validate, y_validate, verbose=1)\n",
    "\n",
    "print(\"Validation: accuracy = %f  ;  loss_v = %f\" % (accuracy_v, loss_v))\n",
    "print(\"Test: accuracy = %f  ;  loss = %f\" % (accuracy, loss))"
   ]
  },
  {
   "cell_type": "code",
   "execution_count": 355,
   "metadata": {},
   "outputs": [
    {
     "name": "stderr",
     "output_type": "stream",
     "text": [
      "/Users/ryanjoseph/Library/Python/3.9/lib/python/site-packages/keras/src/engine/training.py:3000: UserWarning: You are saving your model as an HDF5 file via `model.save()`. This file format is considered legacy. We recommend using instead the native Keras format, e.g. `model.save('my_model.keras')`.\n",
      "  saving_api.save_model(\n"
     ]
    }
   ],
   "source": [
    "#model.save(f\"model_dropout_test_acc_{accuracy:.2f}.keras\")\n",
    "model.save(\"model_h5.h5\")"
   ]
  },
  {
   "cell_type": "code",
   "execution_count": 356,
   "metadata": {},
   "outputs": [],
   "source": [
    "# multiple forward passes\n",
    "# calculate the variance between all the outputs\n",
    "def monte_carlo_dropout(model, x_input, n_iter=100):\n",
    "    # store predictions from multiple forward passes\n",
    "    predictions = np.array([model(x_input, training=True) for _ in range(n_iter)])\n",
    "\n",
    "    # mean of predictions\n",
    "    mean_prediction = np.mean(predictions, axis=0)\n",
    "\n",
    "    # variance of the predictions (uncertainty)\n",
    "    variance_prediction = np.var(predictions, axis=0)\n",
    "\n",
    "    return mean_prediction, variance_prediction"
   ]
  },
  {
   "cell_type": "code",
   "execution_count": 357,
   "metadata": {},
   "outputs": [
    {
     "data": {
      "text/plain": [
       "'# Visualize the image\\nplt.imshow(x_sample.reshape(75, 100), cmap=\\'gray\\')  # Reshape the image and display it\\nplt.title(f\"True Label: {y_sample_true}\")  # Add the true label as the title\\nplt.axis(\\'off\\')  # Turn off axis for clarity\\nplt.show()'"
      ]
     },
     "execution_count": 357,
     "metadata": {},
     "output_type": "execute_result"
    }
   ],
   "source": [
    "# sample\n",
    "sample_index = slice(22,23)\n",
    "x_sample = x_test[sample_index]\n",
    "\n",
    "import matplotlib.pyplot as plt\n",
    "\n",
    "# Select a sample image and its true label from the test set\n",
    "#sample_index = 1  # You can change this to view different images\n",
    "#x_sample = x_test[sample_index]\n",
    "y_sample_true = np.argmax(y_test[sample_index])  # True label (in numeric form)\n",
    "\n",
    "'''# Visualize the image\n",
    "plt.imshow(x_sample.reshape(75, 100), cmap='gray')  # Reshape the image and display it\n",
    "plt.title(f\"True Label: {y_sample_true}\")  # Add the true label as the title\n",
    "plt.axis('off')  # Turn off axis for clarity\n",
    "plt.show()'''"
   ]
  },
  {
   "cell_type": "code",
   "execution_count": 358,
   "metadata": {},
   "outputs": [
    {
     "name": "stdout",
     "output_type": "stream",
     "text": [
      "Mean Prediction: [[0.0568307  0.07247783 0.08828864 0.06698425 0.49613616 0.15534478\n",
      "  0.06393776]]\n",
      "Uncertainty (Variance): [[0.00114151 0.00142015 0.00209057 0.00128231 0.01571924 0.00357954\n",
      "  0.00099991]]\n"
     ]
    }
   ],
   "source": [
    "# get mean and uncertainty (variance) using Monte Carlo Dropout\n",
    "mean_prediction, uncertainty = monte_carlo_dropout(model, x_sample, n_iter=100)\n",
    "\n",
    "# results\n",
    "print(f\"Mean Prediction: {mean_prediction}\")\n",
    "print(f\"Uncertainty (Variance): {uncertainty}\")"
   ]
  },
  {
   "cell_type": "code",
   "execution_count": 359,
   "metadata": {},
   "outputs": [
    {
     "name": "stdout",
     "output_type": "stream",
     "text": [
      "Model Predictions (mean prediction): [[0.0568307  0.07247783 0.08828864 0.06698425 0.49613616 0.15534478\n",
      "  0.06393776]]\n",
      "Model Uncertainty (variance): [[0.00114151 0.00142015 0.00209057 0.00128231 0.01571924 0.00357954\n",
      "  0.00099991]]\n",
      "Predicted Class: 4\n",
      "Uncertainty for predicted class 4: 1.57%\n"
     ]
    }
   ],
   "source": [
    "# GETTING SINGULAR UNCERTAINTY VALUE\n",
    "\n",
    "# MEAN UNCERTAINTY (VARIANCE)\n",
    "# overall average uncertainty across ALL classes\n",
    "# stupid\n",
    "# mean_uncertainty = np.mean(uncertainty)\n",
    "# print(f\"Mean Uncertainty: {mean_uncertainty}\")\n",
    "\n",
    "# VARIANCE OF PREDICTED CLASS\n",
    "# we only care about uncertainty related to predicted class (class with highest mean probability)\n",
    "print(f\"Model Predictions (mean prediction): {mean_prediction}\")\n",
    "print(f\"Model Uncertainty (variance): {uncertainty}\")\n",
    "predicted_class = np.argmax(mean_prediction)\n",
    "print(f\"Predicted Class: {predicted_class}\")\n",
    "class_uncertainty = uncertainty[0, predicted_class]\n",
    "# convert to percent\n",
    "class_uncertainty = class_uncertainty * 100\n",
    "print(f\"Uncertainty for predicted class {predicted_class}: {class_uncertainty:.2f}%\")"
   ]
  },
  {
   "cell_type": "code",
   "execution_count": 360,
   "metadata": {},
   "outputs": [
    {
     "data": {
      "image/png": "[encoded data removed]",
      "text/plain": [
       "<Figure size 800x600 with 1 Axes>"
      ]
     },
     "metadata": {},
     "output_type": "display_data"
    }
   ],
   "source": [
    "import matplotlib.pyplot as plt\n",
    "\n",
    "def plot_uncertainty(uncertainty, mean_prediction):\n",
    "    plt.figure(figsize=(8, 6))\n",
    "    plt.bar(range(7), uncertainty[0], color='gray')\n",
    "    plt.xticks(range(7), range(7))\n",
    "    plt.title(f\"Uncertainty for each class\")\n",
    "    plt.xlabel(\"Class\")\n",
    "    plt.ylabel(\"Uncertainty (Variance)\")\n",
    "    plt.show()\n",
    "\n",
    "plot_uncertainty(uncertainty, mean_prediction)"
   ]
  },
  {
   "cell_type": "code",
   "execution_count": 361,
   "metadata": {},
   "outputs": [
    {
     "data": {
      "image/png": "[encoded data removed]",
      "text/plain": [
       "<Figure size 4000x1000 with 1 Axes>"
      ]
     },
     "metadata": {},
     "output_type": "display_data"
    }
   ],
   "source": [
    "# Graph of Binary Accuracy \n",
    "acc = history.history['accuracy']\n",
    "val_acc = history.history['val_accuracy']\n",
    "\n",
    "loss=history.history['loss']\n",
    "val_loss=history.history['val_loss']\n",
    "\n",
    "epochs_range = range(EPOCHS)\n",
    "\n",
    "plt.figure(figsize=(40, 10))\n",
    "plt.subplot(1, 2, 1)\n",
    "#plt.grid()\n",
    "plt.plot(epochs_range, acc, label='Training Binary Accuracy')\n",
    "plt.plot(epochs_range, val_acc, label='Validation Binary Accuracy')\n",
    "plt.legend(loc='lower right')\n",
    "plt.title('Training and Validation Binary Accuracy', color='Green')\n",
    "plt.savefig('TrainingValidationAccuracy.png')"
   ]
  },
  {
   "cell_type": "code",
   "execution_count": 362,
   "metadata": {},
   "outputs": [
    {
     "data": {
      "image/png": "[encoded data removed]",
      "text/plain": [
       "<Figure size 4000x1000 with 1 Axes>"
      ]
     },
     "metadata": {},
     "output_type": "display_data"
    },
    {
     "data": {
      "text/plain": [
       "<Figure size 640x480 with 0 Axes>"
      ]
     },
     "metadata": {},
     "output_type": "display_data"
    }
   ],
   "source": [
    "# Graph of Loss\n",
    "plt.figure(figsize=(40, 10))\n",
    "plt.subplot(1, 2, 2)\n",
    "#plt.grid()\n",
    "plt.plot(epochs_range, loss, label='Training Loss')\n",
    "plt.plot(epochs_range, val_loss, label='Validation Loss')\n",
    "plt.legend(loc='upper right')\n",
    "plt.title('Training and Validation Loss', color='red')\n",
    "plt.show()\n",
    "plt.savefig('TrainingValidationLoss.png')"
   ]
  },
  {
   "cell_type": "code",
   "execution_count": 363,
   "metadata": {},
   "outputs": [
    {
     "name": "stdout",
     "output_type": "stream",
     "text": [
      "WARNING:tensorflow:5 out of the last 13 calls to <function Model.make_predict_function.<locals>.predict_function at 0x32bfa5f70> triggered tf.function retracing. Tracing is expensive and the excessive number of tracings could be due to (1) creating @tf.function repeatedly in a loop, (2) passing tensors with different shapes, (3) passing Python objects instead of tensors. For (1), please define your @tf.function outside of the loop. For (2), @tf.function has reduce_retracing=True option that can avoid unnecessary retracing. For (3), please refer to https://www.tensorflow.org/guide/function#controlling_retracing and https://www.tensorflow.org/api_docs/python/tf/function for  more details.\n",
      "3/3 [==============================] - 0s 13ms/step\n"
     ]
    },
    {
     "data": {
      "image/png": "[encoded data removed]",
      "text/plain": [
       "<Figure size 640x480 with 2 Axes>"
      ]
     },
     "metadata": {},
     "output_type": "display_data"
    }
   ],
   "source": [
    "# Function to plot confusion matrix    \n",
    "def plot_confusion_matrix(cm, classes,\n",
    "                          normalize=False,\n",
    "                          title='Confusion matrix',\n",
    "                          cmap=plt.cm.Blues):\n",
    "    \"\"\"\n",
    "    This function prints and plots the confusion matrix.\n",
    "    Normalization can be applied by setting `normalize=True`.\n",
    "    \"\"\"\n",
    "    plt.imshow(cm, interpolation='nearest', cmap=cmap)\n",
    "    plt.title(title)\n",
    "    plt.colorbar()\n",
    "    tick_marks = np.arange(len(classes))\n",
    "    plt.xticks(tick_marks, classes, rotation=45)\n",
    "    plt.yticks(tick_marks, classes)\n",
    "\n",
    "    if normalize:\n",
    "        cm = cm.astype('float') / cm.sum(axis=1)[:, np.newaxis]\n",
    "\n",
    "    thresh = cm.max() / 2.\n",
    "    for i, j in itertools.product(range(cm.shape[0]), range(cm.shape[1])):\n",
    "        plt.text(j, i, cm[i, j],\n",
    "                 horizontalalignment=\"center\",\n",
    "                 color=\"white\" if cm[i, j] > thresh else \"black\")\n",
    "\n",
    "    plt.tight_layout()\n",
    "    plt.ylabel('True label')\n",
    "    plt.xlabel('Predicted label')\n",
    "\n",
    "# Predict the values from the validation dataset\n",
    "Y_pred = model.predict(x_validate)\n",
    "# Convert predictions classes to one hot vectors \n",
    "Y_pred_classes = np.argmax(Y_pred,axis = 1) \n",
    "# Convert validation observations to one hot vectors\n",
    "Y_true = np.argmax(y_validate,axis = 1) \n",
    "# compute the confusion matrix\n",
    "confusion_mtx = confusion_matrix(Y_true, Y_pred_classes)\n",
    "\n",
    " \n",
    "\n",
    "# plot the confusion matrix\n",
    "plot_confusion_matrix(confusion_mtx, classes = range(7)) "
   ]
  },
  {
   "cell_type": "code",
   "execution_count": 364,
   "metadata": {},
   "outputs": [
    {
     "data": {
      "text/plain": [
       "Text(0, 0.5, 'Fraction classified incorrectly')"
      ]
     },
     "execution_count": 364,
     "metadata": {},
     "output_type": "execute_result"
    },
    {
     "data": {
      "image/png": "[encoded data removed]",
      "text/plain": [
       "<Figure size 640x480 with 1 Axes>"
      ]
     },
     "metadata": {},
     "output_type": "display_data"
    }
   ],
   "source": [
    "label_frac_error = 1 - np.diag(confusion_mtx) / np.sum(confusion_mtx, axis=1)\n",
    "plt.bar(np.arange(7),label_frac_error)\n",
    "plt.xlabel('True Label')\n",
    "plt.ylabel('Fraction classified incorrectly')"
   ]
  },
  {
   "cell_type": "markdown",
   "metadata": {},
   "source": []
  }
 ],
 "metadata": {
  "kernelspec": {
   "display_name": "Python 3",
   "language": "python",
   "name": "python3"
  },
  "language_info": {
   "codemirror_mode": {
    "name": "ipython",
    "version": 3
   },
   "file_extension": ".py",
   "mimetype": "text/x-python",
   "name": "python",
   "nbconvert_exporter": "python",
   "pygments_lexer": "ipython3",
   "version": "3.9.6"
  },
  "orig_nbformat": 4,
  "vscode": {
   "interpreter": {
    "hash": "31f2aee4e71d21fbe5cf8b01ff0e069b9275f58929596ceb00d14d90e3e16cd6"
   }
  }
 },
 "nbformat": 4,
 "nbformat_minor": 2
}
